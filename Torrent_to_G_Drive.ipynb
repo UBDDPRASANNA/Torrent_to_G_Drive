{
  "cells": [
    {
      "cell_type": "markdown",
      "metadata": {
        "id": "view-in-github",
        "colab_type": "text"
      },
      "source": [
        "<a href=\"https://colab.research.google.com/github/UBDDPRASANNA/Torrent_to_G_Drive/blob/main/Torrent_to_G_Drive.ipynb\" target=\"_parent\"><img src=\"https://colab.research.google.com/assets/colab-badge.svg\" alt=\"Open In Colab\"/></a>"
      ]
    },
    {
      "cell_type": "markdown",
      "source": [
        "**********************************************\n",
        "\n",
        "**WARNING:** UNAUTHORIZED CODE MODIFICATION\n",
        "**********************************************\n",
        "\n",
        "\n",
        "This code is the intellectual property of CyberCrewz E-Solutions.\n",
        "It is provided under a free-use license, allowing individuals to use,\n",
        "modify, and distribute this code.\n",
        "However, any unauthorized modifications that remove or alter the authorship\n",
        "attribution are strictly prohibited.\n",
        "\n",
        "CyberCrewz E-Solutions"
      ],
      "metadata": {
        "id": "6wXw5_eJNjGV"
      }
    },
    {
      "cell_type": "markdown",
      "metadata": {
        "id": "rARMowRzkVeS"
      },
      "source": [
        "### Installing libraries"
      ]
    },
    {
      "cell_type": "code",
      "execution_count": null,
      "metadata": {
        "id": "gB2JXD9lkC82"
      },
      "outputs": [],
      "source": [
        "from IPython.display import display, HTML\n",
        "def display_text(text, size=6):\n",
        "    html_content = f\"<div style='display: flex; align-items: center; justify-content: center; height: 100%;'><font size='{size}'>{text}</font></div>\"\n",
        "    display(HTML(html_content))\n",
        "display_text(\"This Code Developed By <font color='red'><b>CyberCrewz</b></font> .Please only use this For Learning Purpose.\")\n",
        "!python -m pip install --upgrade pip setuptools wheel\n",
        "!python -m pip install lbry-libtorrent\n",
        "!apt install python3-libtorrent\n",
        "!pip install colorama\n",
        "def decrypt(EnPtC, shift):\n",
        "    DcPtM = \"\"\n",
        "    for char in EnPtC:\n",
        "        if char.isalpha():\n",
        "\n",
        "            if char.isupper():\n",
        "                base = ord('A')\n",
        "            else:\n",
        "                base = ord('a')\n",
        "\n",
        "            decrypted_char = chr((ord(char) - base - shift) % 26 + base)\n",
        "\n",
        "            DcPtM += decrypted_char\n",
        "        else:\n",
        "\n",
        "            DcPtM += char\n",
        "    return DcPtM"
      ]
    },
    {
      "cell_type": "markdown",
      "metadata": {
        "id": "9QekT_5Wkapz"
      },
      "source": [
        "### Mount your google drive"
      ]
    },
    {
      "cell_type": "code",
      "execution_count": null,
      "metadata": {
        "id": "lHo-9kcXkeoJ"
      },
      "outputs": [],
      "source": [
        "from google.colab import drive\n",
        "drive.mount(\"/content/drive\")\n"
      ]
    },
    {
      "cell_type": "markdown",
      "metadata": {
        "id": "NQIFy3GKkxL4"
      },
      "source": [
        "### Create session"
      ]
    },
    {
      "cell_type": "code",
      "execution_count": null,
      "metadata": {
        "id": "e6d9ZJYBk0Yg"
      },
      "outputs": [],
      "source": [
        "import libtorrent as lt\n",
        "\n",
        "ses = lt.session()\n",
        "ses.listen_on(6881, 6891)\n",
        "\n",
        "downloads = []"
      ]
    },
    {
      "cell_type": "markdown",
      "metadata": {
        "id": "gslGMvX8lY5t"
      },
      "source": [
        "### Add torrent from file"
      ]
    },
    {
      "cell_type": "code",
      "execution_count": null,
      "metadata": {
        "id": "mgMWDYTMlb1N"
      },
      "outputs": [],
      "source": [
        "from google.colab import files\n",
        "\n",
        "source = files.upload()\n",
        "\n",
        "params = {\n",
        "    \"save_path\": \"/content/drive/My Drive/Torrent\",\n",
        "    \"ti\": lt.torrent_info(list(source.keys())[0])\n",
        "}\n",
        "\n",
        "downloads.append(ses.add_torrent(params))"
      ]
    },
    {
      "cell_type": "markdown",
      "metadata": {
        "id": "nV1mlfF3l7_R"
      },
      "source": [
        "### Add torrent from magnet link"
      ]
    },
    {
      "cell_type": "code",
      "execution_count": null,
      "metadata": {
        "id": "-YXqIosxl-hy"
      },
      "outputs": [],
      "source": [
        "params = {\"save_path\": \"/content/drive/My Drive/Torrent\"}\n",
        "\n",
        "while True:\n",
        "    magnet_link = input(\"Enter Magnet Link Or Type Exit: \")\n",
        "    if magnet_link.lower() == \"exit\":\n",
        "        break\n",
        "    downloads.append(\n",
        "        lt.add_magnet_uri(ses, magnet_link,\n",
        "                          params)\n",
        "    )\n"
      ]
    },
    {
      "cell_type": "markdown",
      "metadata": {
        "id": "xOK0BnxQmKPR"
      },
      "source": [
        "### Now Download :)"
      ]
    },
    {
      "cell_type": "code",
      "source": [
        "EnPtC = \".........FbehuFuhzc H-Vroxwlrqv.........\"\n",
        "shift = 3\n",
        "DcPtM = decrypt(EnPtC, shift)\n",
        "\n",
        "total_sum = 0\n",
        "\n",
        "for char in DcPtM:\n",
        "    ascii_value = ord(char)\n",
        "    total_sum += ascii_value\n",
        "from IPython.display import display, HTML\n",
        "import time\n",
        "\n",
        "text = \".........CyberCrewz E-Solutions.........\"\n",
        "\n",
        "rainbow_colors = ['#FF0000', '#FF4500', '#FFA500', '#FFFF00', '#ADFF2F', '#00FF00', '#00FFFF', '#00BFFF', '#0000FF', '#8A2BE2', '#EE82EE']\n",
        "\n",
        "color_index = 0\n",
        "\n",
        "html_string = f'<marquee behavior=\"scroll\" direction=\"right\">'\n",
        "for char in DcPtM:\n",
        "    color = rainbow_colors[color_index % len(rainbow_colors)]\n",
        "    html_string += f'<font color=\"{color}\" size=\"4\">{char}</font>'\n",
        "    color_index += 1\n",
        "html_string += '</marquee>'\n",
        "\n",
        "display(HTML(html_string))\n",
        "\n",
        "def shift_color_index(index):\n",
        "    return (index + 1) % len(rainbow_colors)\n",
        "\n",
        "if total_sum == 2974 :\n",
        "\n",
        "    import time\n",
        "    from IPython.display import display, HTML\n",
        "    import ipywidgets as widgets\n",
        "\n",
        "    state_str = [\n",
        "        \"queued\",\n",
        "        \"checking\",\n",
        "        \"downloading metadata\",\n",
        "        \"downloading\",\n",
        "        \"finished\",\n",
        "        \"seeding\",\n",
        "        \"allocating\",\n",
        "        \"checking fastresume\",\n",
        "    ]\n",
        "\n",
        "    layout = widgets.Layout(width=\"auto\")\n",
        "    style = {\"description_width\": \"initial\", \"handle_color\": \"red\"}\n",
        "    download_bars = [\n",
        "        widgets.FloatSlider(\n",
        "            step=0.01, disabled=True, layout=layout, style=style\n",
        "        )\n",
        "        for _ in downloads\n",
        "    ]\n",
        "    display(*download_bars)\n",
        "\n",
        "    while downloads:\n",
        "        next_shift = 0\n",
        "\n",
        "        for index, download in enumerate(downloads[:]):\n",
        "            bar = download_bars[index + next_shift]\n",
        "            if not download.is_seed():\n",
        "                s = download.status()\n",
        "                speed_text = str(s.download_rate / 1000) + \" kB/s\"\n",
        "                if s.download_rate < 1500000:\n",
        "                    speed_text = f'<font color=\"red\">{speed_text}</font>'\n",
        "                elif s.download_rate < 3548000:\n",
        "                    speed_text = f'<font color=\"yellow\">{speed_text}</font>'\n",
        "                else:\n",
        "                    speed_text = f'<font color=\"#00FF00\">{speed_text}</font>'\n",
        "\n",
        "                name_text = f'<font color=\"#FFA500\" size=\"3\"><b>{download.name()}</b></font>'\n",
        "\n",
        "                bar.description = \" \".join(\n",
        "                    [\n",
        "                        name_text ,\n",
        "                        \"Speed =\",\n",
        "                        speed_text,\n",
        "                        \"Downloading\",\n",
        "                        f\"({s.total_done / 1000000:.2f} MB / {s.total_wanted / 1000000:.2f} MB)\",\n",
        "                    ]\n",
        "                )\n",
        "                bar.value = s.progress * 100\n",
        "\n",
        "            else:\n",
        "                next_shift -= 1\n",
        "                ses.remove_torrent(download)\n",
        "                downloads.remove(download)\n",
        "                bar.close()\n",
        "                download_bars.remove(bar)\n",
        "\n",
        "                print(f'<font color=\"yellow\" size=\"3\"><b>{download.name(), \"complete\"}</b></font>')\n",
        "\n",
        "        display(HTML(\"<br>\"))\n",
        "\n",
        "        time.sleep(1)\n",
        "\n",
        "else:\n",
        "    EnPtC = \"#### DUQLQJ: XQDXWKRULCHG FRGH PRGLILFDWLRQ GHWHFWHG ###\"\n",
        "    shift = 3\n",
        "    DcPtM = decrypt(EnPtC, shift)\n",
        "    from IPython.display import display, HTML\n",
        "    import time\n",
        "\n",
        "\n",
        "    color = \"red\"\n",
        "    html_string = f'<marquee behavior=\"scroll\" direction=\"right\"><font color=\"{color}\"size=\"6\"><b>{DcPtM}</b></font></marquee>'\n",
        "\n",
        "    display(HTML(html_string))"
      ],
      "metadata": {
        "id": "45eGWL6F_2_R"
      },
      "execution_count": null,
      "outputs": []
    }
  ],
  "metadata": {
    "colab": {
      "provenance": [],
      "include_colab_link": true
    },
    "kernelspec": {
      "display_name": "Python 3",
      "name": "python3"
    },
    "language_info": {
      "name": "python"
    }
  },
  "nbformat": 4,
  "nbformat_minor": 0
}